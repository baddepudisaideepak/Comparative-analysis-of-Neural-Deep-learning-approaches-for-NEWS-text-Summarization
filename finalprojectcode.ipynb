{
  "nbformat": 4,
  "nbformat_minor": 0,
  "metadata": {
    "colab": {
      "provenance": [],
      "authorship_tag": "ABX9TyPm8VWBuZ8yO5Fu+b9jEnt+",
      "include_colab_link": true
    },
    "kernelspec": {
      "name": "python3",
      "display_name": "Python 3"
    },
    "language_info": {
      "name": "python"
    }
  },
  "cells": [
    {
      "cell_type": "markdown",
      "metadata": {
        "id": "view-in-github",
        "colab_type": "text"
      },
      "source": [
        "<a href=\"https://colab.research.google.com/github/baddepudisaideepak/Comparative-analysis-of-Neural-Deep-learning-approaches-for-NEWS-text-Summarization/blob/main/finalprojectcode.ipynb\" target=\"_parent\"><img src=\"https://colab.research.google.com/assets/colab-badge.svg\" alt=\"Open In Colab\"/></a>"
      ]
    },
    {
      "cell_type": "code",
      "source": [
        "import tensorflow as tf\n",
        "from tensorflow.keras.layers import Layer, Concatenate, Dense, TimeDistributed, LSTM, Embedding, Input\n",
        "from tensorflow.keras.models import Model\n",
        "from tensorflow.keras.preprocessing.text import Tokenizer\n",
        "from tensorflow.keras.preprocessing.sequence import pad_sequences\n",
        "import re\n",
        "import string\n",
        "from nltk.corpus import stopwords\n",
        "from nltk.translate.bleu_score import sentence_bleu, SmoothingFunction\n",
        "from sklearn.model_selection import train_test_split"
      ],
      "metadata": {
        "id": "T-sN4BCdZgGd"
      },
      "execution_count": 6,
      "outputs": []
    },
    {
      "cell_type": "code",
      "execution_count": 7,
      "metadata": {
        "id": "Qu9MuDkHqJTk"
      },
      "outputs": [],
      "source": [
        "import numpy as np\n",
        "import pandas as pd"
      ]
    },
    {
      "cell_type": "code",
      "source": [
        "data ='https://raw.githubusercontent.com/baddepudisaideepak/Comparative-analysis-of-Neural-Deep-learning-approaches-for-NEWS-text-Summarization/refs/heads/main/news_summary.csv'\n",
        "data_more ='https://raw.githubusercontent.com/baddepudisaideepak/Comparative-analysis-of-Neural-Deep-learning-approaches-for-NEWS-text-Summarization/refs/heads/main/news_summary_more.csv'\n"
      ],
      "metadata": {
        "id": "qRfaKgJgX_A0"
      },
      "execution_count": 2,
      "outputs": []
    },
    {
      "cell_type": "code",
      "source": [
        "df = pd.read_csv(data, encoding='latin-1')\n",
        "df_more = pd.read_csv(data_more, encoding='latin-1')"
      ],
      "metadata": {
        "id": "UZFWu43bYMp-"
      },
      "execution_count": 3,
      "outputs": []
    },
    {
      "cell_type": "code",
      "source": [
        "print(df.head())"
      ],
      "metadata": {
        "colab": {
          "base_uri": "https://localhost:8080/"
        },
        "id": "pcVDmk8LYPOH",
        "outputId": "9c5df205-cf19-49df-8087-5401069229f7"
      },
      "execution_count": 4,
      "outputs": [
        {
          "output_type": "stream",
          "name": "stdout",
          "text": [
            "               author                  date  \\\n",
            "0        Chhavi Tyagi  03 Aug 2017,Thursday   \n",
            "1         Daisy Mowke  03 Aug 2017,Thursday   \n",
            "2      Arshiya Chopra  03 Aug 2017,Thursday   \n",
            "3       Sumedha Sehra  03 Aug 2017,Thursday   \n",
            "4  Aarushi Maheshwari  03 Aug 2017,Thursday   \n",
            "\n",
            "                                           headlines  \\\n",
            "0  Daman & Diu revokes mandatory Rakshabandhan in...   \n",
            "1  Malaika slams user who trolled her for 'divorc...   \n",
            "2  'Virgin' now corrected to 'Unmarried' in IGIMS...   \n",
            "3  Aaj aapne pakad liya: LeT man Dujana before be...   \n",
            "4  Hotel staff to get training to spot signs of s...   \n",
            "\n",
            "                                           read_more  \\\n",
            "0  http://www.hindustantimes.com/india-news/raksh...   \n",
            "1  http://www.hindustantimes.com/bollywood/malaik...   \n",
            "2  http://www.hindustantimes.com/patna/bihar-igim...   \n",
            "3  http://indiatoday.intoday.in/story/abu-dujana-...   \n",
            "4  http://indiatoday.intoday.in/story/sex-traffic...   \n",
            "\n",
            "                                                text  \\\n",
            "0  The Administration of Union Territory Daman an...   \n",
            "1  Malaika Arora slammed an Instagram user who tr...   \n",
            "2  The Indira Gandhi Institute of Medical Science...   \n",
            "3  Lashkar-e-Taiba's Kashmir commander Abu Dujana...   \n",
            "4  Hotels in Maharashtra will train their staff t...   \n",
            "\n",
            "                                               ctext  \n",
            "0  The Daman and Diu administration on Wednesday ...  \n",
            "1  From her special numbers to TV?appearances, Bo...  \n",
            "2  The Indira Gandhi Institute of Medical Science...  \n",
            "3  Lashkar-e-Taiba's Kashmir commander Abu Dujana...  \n",
            "4  Hotels in Mumbai and other Indian cities are t...  \n"
          ]
        }
      ]
    },
    {
      "cell_type": "code",
      "source": [],
      "metadata": {
        "id": "NJMt8pKMZfdt"
      },
      "execution_count": null,
      "outputs": []
    },
    {
      "cell_type": "code",
      "source": [
        "print(df_more.head())"
      ],
      "metadata": {
        "colab": {
          "base_uri": "https://localhost:8080/"
        },
        "id": "CP-ubJsTYeRo",
        "outputId": "8cf14dac-cf8e-4f03-981d-c860833aa1df"
      },
      "execution_count": null,
      "outputs": [
        {
          "output_type": "stream",
          "name": "stdout",
          "text": [
            "                                           headlines  \\\n",
            "0  upGrad learner switches to career in ML & Al w...   \n",
            "1  Delhi techie wins free food from Swiggy for on...   \n",
            "2  New Zealand end Rohit Sharma-led India's 12-ma...   \n",
            "3  Aegon life iTerm insurance plan helps customer...   \n",
            "4  Have known Hirani for yrs, what if MeToo claim...   \n",
            "\n",
            "                                                text  \n",
            "0  Saurav Kant, an alumnus of upGrad and IIIT-B's...  \n",
            "1  Kunal Shah's credit card bill payment platform...  \n",
            "2  New Zealand defeated India by 8 wickets in the...  \n",
            "3  With Aegon Life iTerm Insurance plan, customer...  \n",
            "4  Speaking about the sexual harassment allegatio...  \n"
          ]
        }
      ]
    },
    {
      "cell_type": "code",
      "source": [],
      "metadata": {
        "id": "LmYzMzLXYiO4"
      },
      "execution_count": null,
      "outputs": []
    }
  ]
}